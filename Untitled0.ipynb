{
  "nbformat": 4,
  "nbformat_minor": 0,
  "metadata": {
    "colab": {
      "provenance": []
    },
    "kernelspec": {
      "name": "python3",
      "display_name": "Python 3"
    },
    "language_info": {
      "name": "python"
    }
  },
  "cells": [
    {
      "cell_type": "markdown",
      "source": [],
      "metadata": {
        "id": "5iUPkQZLBvqH"
      }
    },
    {
      "cell_type": "markdown",
      "source": [
        "#Write a Python program to print \"Hello, World!"
      ],
      "metadata": {
        "id": "9kPzwRgfCVCy"
      }
    },
    {
      "cell_type": "code",
      "source": [
        "print(\"hello world\")"
      ],
      "metadata": {
        "colab": {
          "base_uri": "https://localhost:8080/"
        },
        "id": "2wbJLM7iB8Mq",
        "outputId": "1cc0d5db-859e-4b32-a6a1-847d8e241ccf"
      },
      "execution_count": null,
      "outputs": [
        {
          "output_type": "stream",
          "name": "stdout",
          "text": [
            "hello world\n"
          ]
        }
      ]
    },
    {
      "cell_type": "markdown",
      "source": [
        "# Write a Python program that displays your name and age ?\n"
      ],
      "metadata": {
        "id": "4TSR4g0rDLro"
      }
    },
    {
      "cell_type": "code",
      "source": [
        "print(\"My self Meet Telase\")\n",
        "print(\"age = 22\")"
      ],
      "metadata": {
        "colab": {
          "base_uri": "https://localhost:8080/"
        },
        "id": "S3P5mskvDaqP",
        "outputId": "b57c9146-fde2-42db-f807-4e99f45152bc"
      },
      "execution_count": null,
      "outputs": [
        {
          "output_type": "stream",
          "name": "stdout",
          "text": [
            "My self Meet Telase\n",
            "age = 22\n"
          ]
        }
      ]
    },
    {
      "cell_type": "markdown",
      "source": [
        "#Write code to print all the pre-defined keywords in Python using the keyword library?"
      ],
      "metadata": {
        "id": "p5J-xeUxDlvz"
      }
    },
    {
      "cell_type": "code",
      "source": [
        "help(\"keywords\")"
      ],
      "metadata": {
        "colab": {
          "base_uri": "https://localhost:8080/"
        },
        "id": "nQRgMsu5Drqe",
        "outputId": "4888f4f7-673e-4c3d-de9e-90b733678e75"
      },
      "execution_count": null,
      "outputs": [
        {
          "output_type": "stream",
          "name": "stdout",
          "text": [
            "\n",
            "Here is a list of the Python keywords.  Enter any keyword to get more help.\n",
            "\n",
            "False               class               from                or\n",
            "None                continue            global              pass\n",
            "True                def                 if                  raise\n",
            "and                 del                 import              return\n",
            "as                  elif                in                  try\n",
            "assert              else                is                  while\n",
            "async               except              lambda              with\n",
            "await               finally             nonlocal            yield\n",
            "break               for                 not                 \n",
            "\n"
          ]
        }
      ]
    },
    {
      "cell_type": "markdown",
      "source": [
        "#Write a program that checks if a given word is a Python keyword?"
      ],
      "metadata": {
        "id": "Gx6aUL0MEB1B"
      }
    },
    {
      "cell_type": "code",
      "source": [
        "a = 3\n",
        "b = \"meet\"\n",
        "c = 3.6\n",
        "type(a)\n"
      ],
      "metadata": {
        "colab": {
          "base_uri": "https://localhost:8080/"
        },
        "id": "5nrf5_FqEGUH",
        "outputId": "8dd27a1e-663d-44c1-b4d4-e399599ea77e"
      },
      "execution_count": null,
      "outputs": [
        {
          "output_type": "execute_result",
          "data": {
            "text/plain": [
              "int"
            ]
          },
          "metadata": {},
          "execution_count": 6
        }
      ]
    },
    {
      "cell_type": "markdown",
      "source": [
        "#Create a list and tuple in Python, and demonstrate how attempting to change an element works differently\n",
        "for each0\n"
      ],
      "metadata": {
        "id": "5oalkLe1EpIv"
      }
    },
    {
      "cell_type": "code",
      "source": [
        "\n",
        "my_list = [1, 2, 3, 4]\n",
        "print(\"Original list:\", my_list)\n",
        "\n",
        "my_list[2] = 10\n",
        "print(\"List after change:\", my_list)\n",
        "\n",
        "\n",
        "my_tuple = (1, 2, 3, 4)\n",
        "print(\"Original tuple:\", my_tuple)\n",
        "\n",
        "\n",
        "try:\n",
        "    my_tuple[2] = 10\n",
        "except TypeError as e:\n",
        "    print(\"Error when trying to change tuple:\", e)\n"
      ],
      "metadata": {
        "colab": {
          "base_uri": "https://localhost:8080/"
        },
        "id": "GHHuBckWEsRx",
        "outputId": "e4ddae41-bb34-4f97-ce68-802294ac71a5"
      },
      "execution_count": null,
      "outputs": [
        {
          "output_type": "stream",
          "name": "stdout",
          "text": [
            "Original list: [1, 2, 3, 4]\n",
            "List after change: [1, 2, 10, 4]\n",
            "Original tuple: (1, 2, 3, 4)\n",
            "Error when trying to change tuple: 'tuple' object does not support item assignment\n"
          ]
        }
      ]
    },
    {
      "cell_type": "markdown",
      "source": [
        "# Write a function to demonstrate the behavior of mutable and immutable arguments?\n"
      ],
      "metadata": {
        "id": "bNpBabY1G-yH"
      }
    },
    {
      "cell_type": "code",
      "source": [
        "def modify_argument(arg):\n",
        "    print(\"Before modification:\", arg)\n",
        "\n",
        "    # If the argument is mutable (like a list), we can modify its contents\n",
        "    try:\n",
        "        arg[0] = 99\n",
        "        print(\"After modifying mutable argument (list):\", arg)\n",
        "    except TypeError:\n",
        "        print(\"Could not modify (not a mutable argument)\")\n",
        "\n",
        "# Test with a mutable argument (list)\n",
        "my_list = [1, 2, 3]\n",
        "modify_argument(my_list)  # This will modify the list because it's mutable\n",
        "\n",
        "# Test with an immutable argument (tuple)\n",
        "my_tuple = (1, 2, 3)\n",
        "modify_argument(my_tuple)  # This will not modify the tuple because it's immutable\n"
      ],
      "metadata": {
        "colab": {
          "base_uri": "https://localhost:8080/"
        },
        "id": "lG52CLfJHJST",
        "outputId": "1105a64d-fc03-4ed0-adf2-2c80949bea05"
      },
      "execution_count": null,
      "outputs": [
        {
          "output_type": "stream",
          "name": "stdout",
          "text": [
            "Before modification: [1, 2, 3]\n",
            "After modifying mutable argument (list): [99, 2, 3]\n",
            "Before modification: (1, 2, 3)\n",
            "Could not modify (not a mutable argument)\n"
          ]
        }
      ]
    },
    {
      "cell_type": "markdown",
      "source": [
        "#Write a program to demonstrate the use of logical operators ?"
      ],
      "metadata": {
        "id": "Jh70OGlBIydl"
      }
    },
    {
      "cell_type": "code",
      "source": [
        "\n",
        "def demonstrate_logical_operators(a, b):\n",
        "\n",
        "    if a > 0 and b > 0:\n",
        "        print(\"Both a and b are positive numbers.\")\n",
        "\n",
        "\n",
        "    if a > 0 or b > 0:\n",
        "        print(\"At least one of a or b is a positive number.\")\n",
        "\n",
        "\n",
        "    if not (a < 0):\n",
        "        print(\"a is not negative.\")\n",
        "\n",
        "\n",
        "demonstrate_logical_operators(5, -3)\n",
        "demonstrate_logical_operators(-1, 2)\n",
        "demonstrate_logical_operators(-2, -4)\n"
      ],
      "metadata": {
        "colab": {
          "base_uri": "https://localhost:8080/"
        },
        "id": "LZOP0tiPJSS_",
        "outputId": "9e3af0cf-f370-4e0a-aaff-2e2bdebca4dc"
      },
      "execution_count": 9,
      "outputs": [
        {
          "output_type": "stream",
          "name": "stdout",
          "text": [
            "At least one of a or b is a positive number.\n",
            "a is not negative.\n",
            "At least one of a or b is a positive number.\n"
          ]
        }
      ]
    },
    {
      "cell_type": "markdown",
      "source": [
        "#Write a Python program to convert user input from string to integer, float, and boolean types?"
      ],
      "metadata": {
        "id": "VDRAUIl4JruR"
      }
    },
    {
      "cell_type": "code",
      "source": [
        "# Function to demonstrate conversion of string input to different types\n",
        "def convert_input():\n",
        "    # Get input from the user (it's always a string initially)\n",
        "    user_input = input(\"Enter something: \")\n",
        "\n",
        "    # Convert the string input to an integer\n",
        "    try:\n",
        "        int_value = int(user_input)\n",
        "        print(\"Converted to integer:\", int_value)\n",
        "    except ValueError:\n",
        "        print(\"Cannot convert to integer.\")\n",
        "\n",
        "    # Convert the string input to a float\n",
        "    try:\n",
        "        float_value = float(user_input)\n",
        "        print(\"Converted to float:\", float_value)\n",
        "    except ValueError:\n",
        "        print(\"Cannot convert to float.\")\n",
        "\n",
        "    # Convert the string input to a boolean\n",
        "    if user_input.lower() == 'true':\n",
        "        bool_value = True\n",
        "        print(\"Converted to boolean:\", bool_value)\n",
        "    elif user_input.lower() == 'false':\n",
        "        bool_value = False\n",
        "        print(\"Converted to boolean:\", bool_value)\n",
        "    else:\n",
        "        print(\"Cannot convert to boolean directly.\")\n",
        "\n",
        "# Run the conversion function\n",
        "convert_input()\n"
      ],
      "metadata": {
        "colab": {
          "base_uri": "https://localhost:8080/"
        },
        "id": "dFSGDy1QJvYE",
        "outputId": "5c6189ad-87e1-42e3-e417-f76a0a08646f"
      },
      "execution_count": 11,
      "outputs": [
        {
          "output_type": "stream",
          "name": "stdout",
          "text": [
            "Enter something: 5\n",
            "Converted to integer: 5\n",
            "Converted to float: 5.0\n",
            "Cannot convert to boolean directly.\n"
          ]
        }
      ]
    },
    {
      "cell_type": "markdown",
      "source": [
        "#Write code to demonstrate type casting with list elements?"
      ],
      "metadata": {
        "id": "_20lxcJEKmtB"
      }
    },
    {
      "cell_type": "code",
      "source": [
        "\n",
        "def demonstrate_type_casting():\n",
        "    # Create a list with different types of elements (string and float)\n",
        "    my_list = [\"10\", \"20.5\", \"30\", \"40.8\"]\n",
        "\n",
        "    # Convert all elements to integers using list comprehension\n",
        "    int_list = [int(item) if '.' not in item else int(float(item)) for item in my_list]\n",
        "    print(\"List converted to integers:\", int_list)\n",
        "\n",
        "    # Convert all elements to floats\n",
        "    float_list = [float(item) for item in my_list]\n",
        "    print(\"List converted to floats:\", float_list)\n",
        "\n",
        "    # Convert all elements to strings\n",
        "    str_list = [str(item) for item in my_list]\n",
        "    print(\"List converted to strings:\", str_list)\n",
        "\n",
        "# Run the function\n",
        "demonstrate_type_casting()\n"
      ],
      "metadata": {
        "colab": {
          "base_uri": "https://localhost:8080/"
        },
        "id": "AA7Nbv2XKrLo",
        "outputId": "180be7a7-903a-4c01-a2a7-7301702ba7e8"
      },
      "execution_count": 12,
      "outputs": [
        {
          "output_type": "stream",
          "name": "stdout",
          "text": [
            "List converted to integers: [10, 20, 30, 40]\n",
            "List converted to floats: [10.0, 20.5, 30.0, 40.8]\n",
            "List converted to strings: ['10', '20.5', '30', '40.8']\n"
          ]
        }
      ]
    },
    {
      "cell_type": "markdown",
      "source": [
        "#Write a program that checks if a number is positive, negative, or zero0\n"
      ],
      "metadata": {
        "id": "yt6H4OSxLnxV"
      }
    },
    {
      "cell_type": "code",
      "source": [
        "# Function to check if a number is positive, negative, or zero\n",
        "def check_number():\n",
        "    # Get input from the user\n",
        "    number = float(input(\"Enter a number: \"))  # Convert the input to a float\n",
        "\n",
        "    # Check if the number is positive, negative, or zero\n",
        "    if number > 0:\n",
        "        print(\"The number is positive.\")\n",
        "    elif number < 0:\n",
        "        print(\"The number is negative.\")\n",
        "    else:\n",
        "        print(\"The number is zero.\")\n",
        "\n",
        "# Run the function\n",
        "check_number()\n"
      ],
      "metadata": {
        "colab": {
          "base_uri": "https://localhost:8080/"
        },
        "id": "YH305gFELrPE",
        "outputId": "19711a7d-c052-4f94-f9ae-9655bf48ba39"
      },
      "execution_count": 13,
      "outputs": [
        {
          "output_type": "stream",
          "name": "stdout",
          "text": [
            "Enter a number: -5\n",
            "The number is negative.\n"
          ]
        }
      ]
    },
    {
      "cell_type": "markdown",
      "source": [
        "#Write a for loop to print numbers from 1 to 100?"
      ],
      "metadata": {
        "id": "YiKA-Y0ZL_Dg"
      }
    },
    {
      "cell_type": "code",
      "source": [
        "# Using a for loop to print numbers from 1 to 100\n",
        "for number in range(1, 101):\n",
        "    print(number)\n"
      ],
      "metadata": {
        "colab": {
          "base_uri": "https://localhost:8080/"
        },
        "id": "l7MgiNmFMC_Y",
        "outputId": "536784ef-34c2-4612-cd4d-c8e58a17d622"
      },
      "execution_count": 15,
      "outputs": [
        {
          "output_type": "stream",
          "name": "stdout",
          "text": [
            "1\n",
            "2\n",
            "3\n",
            "4\n",
            "5\n",
            "6\n",
            "7\n",
            "8\n",
            "9\n",
            "10\n",
            "11\n",
            "12\n",
            "13\n",
            "14\n",
            "15\n",
            "16\n",
            "17\n",
            "18\n",
            "19\n",
            "20\n",
            "21\n",
            "22\n",
            "23\n",
            "24\n",
            "25\n",
            "26\n",
            "27\n",
            "28\n",
            "29\n",
            "30\n",
            "31\n",
            "32\n",
            "33\n",
            "34\n",
            "35\n",
            "36\n",
            "37\n",
            "38\n",
            "39\n",
            "40\n",
            "41\n",
            "42\n",
            "43\n",
            "44\n",
            "45\n",
            "46\n",
            "47\n",
            "48\n",
            "49\n",
            "50\n",
            "51\n",
            "52\n",
            "53\n",
            "54\n",
            "55\n",
            "56\n",
            "57\n",
            "58\n",
            "59\n",
            "60\n",
            "61\n",
            "62\n",
            "63\n",
            "64\n",
            "65\n",
            "66\n",
            "67\n",
            "68\n",
            "69\n",
            "70\n",
            "71\n",
            "72\n",
            "73\n",
            "74\n",
            "75\n",
            "76\n",
            "77\n",
            "78\n",
            "79\n",
            "80\n",
            "81\n",
            "82\n",
            "83\n",
            "84\n",
            "85\n",
            "86\n",
            "87\n",
            "88\n",
            "89\n",
            "90\n",
            "91\n",
            "92\n",
            "93\n",
            "94\n",
            "95\n",
            "96\n",
            "97\n",
            "98\n",
            "99\n",
            "100\n"
          ]
        }
      ]
    },
    {
      "cell_type": "markdown",
      "source": [
        "#Write a Python program to find the sum of all even numbers between 1 and 500?"
      ],
      "metadata": {
        "id": "PmB0ARyMMIb6"
      }
    },
    {
      "cell_type": "code",
      "source": [
        "# Initialize the sum to 0\n",
        "sum_of_evens = 0\n",
        "\n",
        "# Use a for loop to go through numbers from 1 to 500\n",
        "for number in range(1, 501):\n",
        "    if number % 2 == 0:  # Check if the number is even\n",
        "        sum_of_evens += number  # Add the even number to the sum\n",
        "\n",
        "# Print the result\n",
        "print(\"The sum of all even numbers between 1 and 500 is:\", sum_of_evens)\n"
      ],
      "metadata": {
        "colab": {
          "base_uri": "https://localhost:8080/"
        },
        "id": "uQ8QtM9fMryv",
        "outputId": "57da6269-2c3b-4e58-d69d-a590cfb38615"
      },
      "execution_count": 14,
      "outputs": [
        {
          "output_type": "stream",
          "name": "stdout",
          "text": [
            "The sum of all even numbers between 1 and 500 is: 62750\n"
          ]
        }
      ]
    },
    {
      "cell_type": "markdown",
      "source": [
        " #Write a program to reverse a string using a while loop ?"
      ],
      "metadata": {
        "id": "r-zNbX1JNHfs"
      }
    },
    {
      "cell_type": "code",
      "source": [
        "\n",
        "def reverse_string(s):\n",
        "    reversed_string = \"\"\n",
        "    index = len(s) - 1\n",
        "\n",
        "\n",
        "    while index >= 0:\n",
        "        reversed_string += s[index]\n",
        "        index -= 1\n",
        "\n",
        "    return reversed_string\n",
        "\n",
        "\n",
        "user_input = input(\"Enter a string: \")\n",
        "\n",
        "\n",
        "print(\"Reversed string:\", reverse_string(user_input))\n"
      ],
      "metadata": {
        "colab": {
          "base_uri": "https://localhost:8080/"
        },
        "id": "FT06_C1BNLYs",
        "outputId": "2a128933-36ec-407f-d424-c200432c92b8"
      },
      "execution_count": 16,
      "outputs": [
        {
          "output_type": "stream",
          "name": "stdout",
          "text": [
            "Enter a string: meet\n",
            "Reversed string: teem\n"
          ]
        }
      ]
    },
    {
      "cell_type": "markdown",
      "source": [
        "#Write a Python program to calculate the factorial of a number provided by the user using a while loop?"
      ],
      "metadata": {
        "id": "fk40l3qtN0HE"
      }
    },
    {
      "cell_type": "code",
      "source": [
        "\n",
        "def factorial(n):\n",
        "    result = 1  # Initialize result as 1\n",
        "    while n > 0:\n",
        "        result *= n  # Multiply result by the current value of n\n",
        "        n -= 1  # Decrease n by 1 in each iteration\n",
        "    return result\n",
        "\n",
        "# Input from user\n",
        "num = int(input(\"Enter a number: \"))\n",
        "\n",
        "# Calculate and display the factorial\n",
        "print(f\"The factorial of {num} is {factorial(num)}\")\n"
      ],
      "metadata": {
        "colab": {
          "base_uri": "https://localhost:8080/"
        },
        "id": "sSIH8Y5CN2jv",
        "outputId": "e03f00ab-6f3f-486c-c9c7-cb47f4f98d9c"
      },
      "execution_count": 17,
      "outputs": [
        {
          "output_type": "stream",
          "name": "stdout",
          "text": [
            "Enter a number: 44\n",
            "The factorial of 44 is 2658271574788448768043625811014615890319638528000000000\n"
          ]
        }
      ]
    }
  ]
}